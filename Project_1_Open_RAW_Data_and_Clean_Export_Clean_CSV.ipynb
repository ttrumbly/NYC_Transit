{
 "cells": [
  {
   "cell_type": "code",
   "execution_count": 1,
   "metadata": {},
   "outputs": [],
   "source": [
    "import matplotlib.pyplot as plt\n",
    "import numpy as np\n",
    "import pandas as pd\n",
    "import seaborn as sns"
   ]
  },
  {
   "cell_type": "code",
   "execution_count": 2,
   "metadata": {},
   "outputs": [],
   "source": [
    "def get_data(week_nums):\n",
    "    filename = 'turnstile_{}.csv'\n",
    "    dfs = []\n",
    "    for week_num in week_nums:\n",
    "        file_name = filename.format(week_num)\n",
    "        dfs.append(pd.read_csv(file_name))\n",
    "    return pd.concat(dfs)"
   ]
  },
  {
   "cell_type": "code",
   "execution_count": 3,
   "metadata": {},
   "outputs": [],
   "source": [
    "week_nums = [170429, 170506, 170513, 170520, 170527, 170603]\n",
    "subwaydf = get_data(week_nums)"
   ]
  },
  {
   "cell_type": "code",
   "execution_count": 4,
   "metadata": {},
   "outputs": [],
   "source": [
    "#Old way we called in a single file\n",
    "#filename = 'subway_data.txt'\n",
    "#subwaydf = pd.read_csv(filename)"
   ]
  },
  {
   "cell_type": "code",
   "execution_count": 5,
   "metadata": {},
   "outputs": [],
   "source": [
    "subwaydf.columns = subwaydf.columns.str.strip() #strip whitespace from end of column names"
   ]
  },
  {
   "cell_type": "code",
   "execution_count": 6,
   "metadata": {},
   "outputs": [],
   "source": [
    "subwaydf['datetime'] = subwaydf['DATE'] + ' ' + subwaydf['TIME']"
   ]
  },
  {
   "cell_type": "code",
   "execution_count": 7,
   "metadata": {},
   "outputs": [
    {
     "name": "stdout",
     "output_type": "stream",
     "text": [
      "<class 'pandas.core.frame.DataFrame'>\n",
      "Int64Index: 1179307 entries, 0 to 195957\n",
      "Data columns (total 12 columns):\n",
      "C/A         1179307 non-null object\n",
      "UNIT        1179307 non-null object\n",
      "SCP         1179307 non-null object\n",
      "STATION     1179307 non-null object\n",
      "LINENAME    1179307 non-null object\n",
      "DIVISION    1179307 non-null object\n",
      "DATE        1179307 non-null object\n",
      "TIME        1179307 non-null object\n",
      "DESC        1179307 non-null object\n",
      "ENTRIES     1179307 non-null int64\n",
      "EXITS       1179307 non-null int64\n",
      "datetime    1179307 non-null object\n",
      "dtypes: int64(2), object(10)\n",
      "memory usage: 117.0+ MB\n"
     ]
    }
   ],
   "source": [
    "subwaydf.info()"
   ]
  },
  {
   "cell_type": "code",
   "execution_count": 8,
   "metadata": {},
   "outputs": [],
   "source": [
    "#Join date and time columns and combine to be new datetime, then make the new column a datetime object\n",
    "subwaydf['datetime'] = pd.to_datetime(subwaydf['datetime'])"
   ]
  },
  {
   "cell_type": "code",
   "execution_count": 9,
   "metadata": {},
   "outputs": [],
   "source": [
    "#Sort the subway data by station, unit, terminal and by date\n",
    "subwaydf = subwaydf.sort_values(['STATION', 'UNIT', 'SCP', 'datetime'])\n",
    "subwaydf.reset_index(inplace = True)"
   ]
  },
  {
   "cell_type": "code",
   "execution_count": 10,
   "metadata": {},
   "outputs": [],
   "source": [
    "#create a pre and next iterator column so we can do some comparisons across cells\n",
    "subwaydf['entries_pre'] = subwaydf['ENTRIES'].shift(1)\n",
    "subwaydf['entries_next'] = subwaydf['ENTRIES'].shift(-1)"
   ]
  },
  {
   "cell_type": "code",
   "execution_count": 11,
   "metadata": {},
   "outputs": [],
   "source": [
    "#If the content of an individual cell of entries is out of order, ie. index resets or jumps high\n",
    "#Return the mean of the cells before and after. Useful to catch and clean abnormal data one offs\n",
    "\n",
    "def convertToMean(row):\n",
    "    a = row['entries_pre']\n",
    "    b = row.ENTRIES\n",
    "    c = row.entries_next\n",
    "    if((a<=b<=c) or (a>=b>=c)):\n",
    "        return b\n",
    "    elif((b>a) & (b>c) & (a<c)):\n",
    "        return ((a+c)//2)\n",
    "    elif((b<a) & (b<c) & (a<c)):\n",
    "        return ((a+c)//2)\n",
    "    else:\n",
    "        return b"
   ]
  },
  {
   "cell_type": "code",
   "execution_count": 12,
   "metadata": {},
   "outputs": [],
   "source": [
    "#Apply the previous function create a column of fixed entries\n",
    "subwaydf['entries_fixed'] = subwaydf.apply(convertToMean, axis=1)"
   ]
  },
  {
   "cell_type": "code",
   "execution_count": 13,
   "metadata": {},
   "outputs": [],
   "source": [
    "#create a fixed pre column and an SCP pre column for evaluating 4hr intervals below\n",
    "subwaydf['fixed_pre'] = subwaydf['entries_fixed'].shift(1)\n",
    "subwaydf['shift_scp'] = subwaydf['SCP'].shift(1)"
   ]
  },
  {
   "cell_type": "code",
   "execution_count": 14,
   "metadata": {},
   "outputs": [],
   "source": [
    "#If the SCP is continous (same machine at a station), then evaluate if the data makes sense \n",
    "#is count increasing and total number below 4000 threshold?\n",
    "#If count is decreasing, still find the difference.\n",
    "#Otherwise return a null value\n",
    "\n",
    "\n",
    "def calc4hr(row):\n",
    "    a = row.entries_fixed\n",
    "    b = row.fixed_pre\n",
    "    c = row.SCP\n",
    "    d = row.shift_scp\n",
    "    if (a and b and (c==d)):\n",
    "        if ((a>=b) & (abs(a-b) <4000)):\n",
    "            return a-b\n",
    "        elif ((b>a) & (abs(a-b)<4000)):\n",
    "            return b-a\n",
    "        else:\n",
    "            return np.nan\n",
    "    else:\n",
    "        return None"
   ]
  },
  {
   "cell_type": "code",
   "execution_count": 15,
   "metadata": {},
   "outputs": [],
   "source": [
    "#Apply the previous function to the dataframe to get 4hr entries\n",
    "subwaydf['hr4'] = subwaydf.apply(calc4hr, axis=1)"
   ]
  },
  {
   "cell_type": "code",
   "execution_count": 16,
   "metadata": {},
   "outputs": [
    {
     "data": {
      "text/plain": [
       "Index(['index', 'C/A', 'UNIT', 'SCP', 'STATION', 'LINENAME', 'DIVISION',\n",
       "       'DATE', 'TIME', 'DESC', 'ENTRIES', 'EXITS', 'datetime', 'entries_pre',\n",
       "       'entries_next', 'entries_fixed', 'fixed_pre', 'shift_scp', 'hr4'],\n",
       "      dtype='object')"
      ]
     },
     "execution_count": 16,
     "metadata": {},
     "output_type": "execute_result"
    }
   ],
   "source": [
    "subwaydf.columns"
   ]
  },
  {
   "cell_type": "code",
   "execution_count": 17,
   "metadata": {},
   "outputs": [],
   "source": [
    "cleansubway = subwaydf[['C/A', 'UNIT', 'SCP', 'STATION', 'LINENAME', 'DIVISION','datetime','hr4']]"
   ]
  },
  {
   "cell_type": "code",
   "execution_count": 18,
   "metadata": {},
   "outputs": [],
   "source": [
    "cols = ['C/A', 'UNIT', 'SCP', 'STATION', 'LINENAME', 'DIVISION','datetime','hr4']"
   ]
  },
  {
   "cell_type": "code",
   "execution_count": 19,
   "metadata": {},
   "outputs": [],
   "source": [
    "cols = [i.lower() for i in cols]"
   ]
  },
  {
   "cell_type": "code",
   "execution_count": 20,
   "metadata": {},
   "outputs": [],
   "source": [
    "cleansubway.columns = cols"
   ]
  },
  {
   "cell_type": "code",
   "execution_count": 21,
   "metadata": {},
   "outputs": [],
   "source": [
    "cleansubway.to_csv('spring_2017.csv')"
   ]
  },
  {
   "cell_type": "code",
   "execution_count": null,
   "metadata": {},
   "outputs": [],
   "source": [
    "#subwaydf[subwaydf['STATION'] == 'BROADWAY JCT']"
   ]
  },
  {
   "cell_type": "code",
   "execution_count": null,
   "metadata": {},
   "outputs": [],
   "source": []
  }
 ],
 "metadata": {
  "kernelspec": {
   "display_name": "Python 3",
   "language": "python",
   "name": "python3"
  },
  "language_info": {
   "codemirror_mode": {
    "name": "ipython",
    "version": 3
   },
   "file_extension": ".py",
   "mimetype": "text/x-python",
   "name": "python",
   "nbconvert_exporter": "python",
   "pygments_lexer": "ipython3",
   "version": "3.6.4"
  }
 },
 "nbformat": 4,
 "nbformat_minor": 2
}
