{
 "cells": [
  {
   "cell_type": "code",
   "execution_count": 24,
   "metadata": {},
   "outputs": [],
   "source": [
    "import matplotlib.pyplot as plt\n",
    "import numpy as np\n",
    "import pandas as pd\n",
    "import seaborn as sns"
   ]
  },
  {
   "cell_type": "code",
   "execution_count": 25,
   "metadata": {},
   "outputs": [],
   "source": [
    "def get_data(week_nums):\n",
    "    filename = 'turnstile_{}.csv'\n",
    "    dfs = []\n",
    "    for week_num in week_nums:\n",
    "        file_name = filename.format(week_num)\n",
    "        dfs.append(pd.read_csv(file_name))\n",
    "    return pd.concat(dfs)"
   ]
  },
  {
   "cell_type": "code",
   "execution_count": 26,
   "metadata": {},
   "outputs": [],
   "source": [
    "week_nums = ['180407']\n",
    "subwaydf = get_data(week_nums)"
   ]
  },
  {
   "cell_type": "code",
   "execution_count": 27,
   "metadata": {},
   "outputs": [],
   "source": [
    "#Old way we called in a single file\n",
    "#filename = 'subway_data.txt'\n",
    "#subwaydf = pd.read_csv(filename)"
   ]
  },
  {
   "cell_type": "code",
   "execution_count": 28,
   "metadata": {},
   "outputs": [],
   "source": [
    "subwaydf.columns = subwaydf.columns.str.strip() #strip whitespace from end of column names"
   ]
  },
  {
   "cell_type": "code",
   "execution_count": 29,
   "metadata": {},
   "outputs": [],
   "source": [
    "subwaydf['datetime'] = subwaydf['DATE'] + ' ' + subwaydf['TIME']"
   ]
  },
  {
   "cell_type": "code",
   "execution_count": 30,
   "metadata": {},
   "outputs": [
    {
     "name": "stdout",
     "output_type": "stream",
     "text": [
      "<class 'pandas.core.frame.DataFrame'>\n",
      "RangeIndex: 196988 entries, 0 to 196987\n",
      "Data columns (total 12 columns):\n",
      "C/A         196988 non-null object\n",
      "UNIT        196988 non-null object\n",
      "SCP         196988 non-null object\n",
      "STATION     196988 non-null object\n",
      "LINENAME    196988 non-null object\n",
      "DIVISION    196988 non-null object\n",
      "DATE        196988 non-null object\n",
      "TIME        196988 non-null object\n",
      "DESC        196988 non-null object\n",
      "ENTRIES     196988 non-null int64\n",
      "EXITS       196988 non-null int64\n",
      "datetime    196988 non-null object\n",
      "dtypes: int64(2), object(10)\n",
      "memory usage: 18.0+ MB\n"
     ]
    }
   ],
   "source": [
    "subwaydf.info()"
   ]
  },
  {
   "cell_type": "code",
   "execution_count": 31,
   "metadata": {},
   "outputs": [],
   "source": [
    "#Join date and time columns and combine to be new datetime, then make the new column a datetime object\n",
    "subwaydf['datetime'] = pd.to_datetime(subwaydf['datetime'])"
   ]
  },
  {
   "cell_type": "markdown",
   "metadata": {},
   "source": [
    "#Sort the subway data by station, unit, terminal and by date\n",
    "subwaydf = subwaydf.sort_values(['STATION', 'UNIT', 'SCP', 'datetime'])\n",
    "subwaydf.reset_index(inplace = True)"
   ]
  },
  {
   "cell_type": "code",
   "execution_count": 32,
   "metadata": {},
   "outputs": [],
   "source": [
    "#create a pre and next iterator column so we can do some comparisons across cells\n",
    "subwaydf['entries_pre'] = subwaydf['ENTRIES'].shift(1)\n",
    "subwaydf['entries_next'] = subwaydf['ENTRIES'].shift(-1)"
   ]
  },
  {
   "cell_type": "code",
   "execution_count": 33,
   "metadata": {},
   "outputs": [],
   "source": [
    "#If the content of an individual cell of entries is out of order, ie. index resets or jumps high\n",
    "#Return the mean of the cells before and after. Useful to catch and clean abnormal data one offs\n",
    "\n",
    "def convertToMean(row):\n",
    "    a = row['entries_pre']\n",
    "    b = row.ENTRIES\n",
    "    c = row.entries_next\n",
    "    if((a<=b<=c) or (a>=b>=c)):\n",
    "        return b\n",
    "    elif((b>a) & (b>c) & (a<c)):\n",
    "        return ((a+c)//2)\n",
    "    elif((b<a) & (b<c) & (a<c)):\n",
    "        return ((a+c)//2)\n",
    "    else:\n",
    "        return b"
   ]
  },
  {
   "cell_type": "code",
   "execution_count": 34,
   "metadata": {},
   "outputs": [],
   "source": [
    "#Apply the previous function create a column of fixed entries\n",
    "subwaydf['entries_fixed'] = subwaydf.apply(convertToMean, axis=1)"
   ]
  },
  {
   "cell_type": "code",
   "execution_count": 35,
   "metadata": {},
   "outputs": [],
   "source": [
    "#create a fixed pre column and an SCP pre column for evaluating 4hr intervals below\n",
    "subwaydf['fixed_pre'] = subwaydf['entries_fixed'].shift(1)\n",
    "subwaydf['shift_scp'] = subwaydf['SCP'].shift(1)"
   ]
  },
  {
   "cell_type": "code",
   "execution_count": 36,
   "metadata": {},
   "outputs": [],
   "source": [
    "#If the SCP is continous (same machine at a station), then evaluate if the data makes sense \n",
    "#is count increasing and total number below 4000 threshold?\n",
    "#If count is decreasing, still find the difference.\n",
    "#Otherwise return a null value\n",
    "\n",
    "\n",
    "def calc4hr(row):\n",
    "    a = row.entries_fixed\n",
    "    b = row.fixed_pre\n",
    "    c = row.SCP\n",
    "    d = row.shift_scp\n",
    "    if (a and b and (c==d)):\n",
    "        if ((a>=b) & (abs(a-b) <4000)):\n",
    "            return a-b\n",
    "        elif ((b>a) & (abs(a-b)<4000)):\n",
    "            return b-a\n",
    "        else:\n",
    "            return np.nan\n",
    "    else:\n",
    "        return None"
   ]
  },
  {
   "cell_type": "code",
   "execution_count": 37,
   "metadata": {},
   "outputs": [],
   "source": [
    "#Apply the previous function to the dataframe to get 4hr entries\n",
    "subwaydf['hr4'] = subwaydf.apply(calc4hr, axis=1)"
   ]
  },
  {
   "cell_type": "code",
   "execution_count": 40,
   "metadata": {},
   "outputs": [],
   "source": [
    "subwaydf.drop(['DATE','TIME','datetime','DESC'], axis=1, inplace=True)"
   ]
  },
  {
   "cell_type": "code",
   "execution_count": 41,
   "metadata": {},
   "outputs": [],
   "source": [
    "subwaydf.drop(['C/A','UNIT','LINENAME','DIVISION'], axis=1, inplace=True)"
   ]
  },
  {
   "cell_type": "code",
   "execution_count": 45,
   "metadata": {},
   "outputs": [],
   "source": [
    "subwaydf.drop(['entries_pre', 'entries_next', 'entries_fixed', 'fixed_pre', 'shift_scp'], axis=1, inplace=True)"
   ]
  },
  {
   "cell_type": "code",
   "execution_count": null,
   "metadata": {},
   "outputs": [],
   "source": []
  },
  {
   "cell_type": "code",
   "execution_count": 46,
   "metadata": {},
   "outputs": [
    {
     "data": {
      "text/html": [
       "<div>\n",
       "<style scoped>\n",
       "    .dataframe tbody tr th:only-of-type {\n",
       "        vertical-align: middle;\n",
       "    }\n",
       "\n",
       "    .dataframe tbody tr th {\n",
       "        vertical-align: top;\n",
       "    }\n",
       "\n",
       "    .dataframe thead th {\n",
       "        text-align: right;\n",
       "    }\n",
       "</style>\n",
       "<table border=\"1\" class=\"dataframe\">\n",
       "  <thead>\n",
       "    <tr style=\"text-align: right;\">\n",
       "      <th></th>\n",
       "      <th>SCP</th>\n",
       "      <th>STATION</th>\n",
       "      <th>ENTRIES</th>\n",
       "      <th>EXITS</th>\n",
       "      <th>hr4</th>\n",
       "    </tr>\n",
       "  </thead>\n",
       "  <tbody>\n",
       "    <tr>\n",
       "      <th>174568</th>\n",
       "      <td>00-00-03</td>\n",
       "      <td>5 AVE</td>\n",
       "      <td>165330</td>\n",
       "      <td>25453</td>\n",
       "      <td>18.0</td>\n",
       "    </tr>\n",
       "    <tr>\n",
       "      <th>174569</th>\n",
       "      <td>00-00-03</td>\n",
       "      <td>5 AVE</td>\n",
       "      <td>165345</td>\n",
       "      <td>25469</td>\n",
       "      <td>15.0</td>\n",
       "    </tr>\n",
       "    <tr>\n",
       "      <th>174570</th>\n",
       "      <td>00-00-03</td>\n",
       "      <td>5 AVE</td>\n",
       "      <td>838900529</td>\n",
       "      <td>151035100</td>\n",
       "      <td>NaN</td>\n",
       "    </tr>\n",
       "    <tr>\n",
       "      <th>174571</th>\n",
       "      <td>00-00-03</td>\n",
       "      <td>5 AVE</td>\n",
       "      <td>838900808</td>\n",
       "      <td>151035128</td>\n",
       "      <td>279.0</td>\n",
       "    </tr>\n",
       "    <tr>\n",
       "      <th>174572</th>\n",
       "      <td>00-00-03</td>\n",
       "      <td>5 AVE</td>\n",
       "      <td>838901512</td>\n",
       "      <td>151035146</td>\n",
       "      <td>704.0</td>\n",
       "    </tr>\n",
       "  </tbody>\n",
       "</table>\n",
       "</div>"
      ],
      "text/plain": [
       "             SCP STATION    ENTRIES      EXITS    hr4\n",
       "174568  00-00-03   5 AVE     165330      25453   18.0\n",
       "174569  00-00-03   5 AVE     165345      25469   15.0\n",
       "174570  00-00-03   5 AVE  838900529  151035100    NaN\n",
       "174571  00-00-03   5 AVE  838900808  151035128  279.0\n",
       "174572  00-00-03   5 AVE  838901512  151035146  704.0"
      ]
     },
     "execution_count": 46,
     "metadata": {},
     "output_type": "execute_result"
    }
   ],
   "source": [
    "subwaydf.iloc[174568:174573] #this high number seems to be because entries and exits messes up."
   ]
  },
  {
   "cell_type": "code",
   "execution_count": 47,
   "metadata": {},
   "outputs": [
    {
     "data": {
      "text/html": [
       "<div>\n",
       "<style scoped>\n",
       "    .dataframe tbody tr th:only-of-type {\n",
       "        vertical-align: middle;\n",
       "    }\n",
       "\n",
       "    .dataframe tbody tr th {\n",
       "        vertical-align: top;\n",
       "    }\n",
       "\n",
       "    .dataframe thead th {\n",
       "        text-align: right;\n",
       "    }\n",
       "</style>\n",
       "<table border=\"1\" class=\"dataframe\">\n",
       "  <thead>\n",
       "    <tr style=\"text-align: right;\">\n",
       "      <th></th>\n",
       "      <th>SCP</th>\n",
       "      <th>STATION</th>\n",
       "      <th>ENTRIES</th>\n",
       "      <th>EXITS</th>\n",
       "      <th>hr4</th>\n",
       "    </tr>\n",
       "  </thead>\n",
       "  <tbody>\n",
       "    <tr>\n",
       "      <th>117329</th>\n",
       "      <td>01-01-00</td>\n",
       "      <td>LACKAWANNA</td>\n",
       "      <td>37436</td>\n",
       "      <td>21210</td>\n",
       "      <td>11.0</td>\n",
       "    </tr>\n",
       "    <tr>\n",
       "      <th>117330</th>\n",
       "      <td>01-01-00</td>\n",
       "      <td>LACKAWANNA</td>\n",
       "      <td>980</td>\n",
       "      <td>504</td>\n",
       "      <td>103.0</td>\n",
       "    </tr>\n",
       "    <tr>\n",
       "      <th>117331</th>\n",
       "      <td>01-01-00</td>\n",
       "      <td>LACKAWANNA</td>\n",
       "      <td>37642</td>\n",
       "      <td>21218</td>\n",
       "      <td>103.0</td>\n",
       "    </tr>\n",
       "    <tr>\n",
       "      <th>117332</th>\n",
       "      <td>01-01-00</td>\n",
       "      <td>LACKAWANNA</td>\n",
       "      <td>37650</td>\n",
       "      <td>21220</td>\n",
       "      <td>8.0</td>\n",
       "    </tr>\n",
       "  </tbody>\n",
       "</table>\n",
       "</div>"
      ],
      "text/plain": [
       "             SCP     STATION  ENTRIES  EXITS    hr4\n",
       "117329  01-01-00  LACKAWANNA    37436  21210   11.0\n",
       "117330  01-01-00  LACKAWANNA      980    504  103.0\n",
       "117331  01-01-00  LACKAWANNA    37642  21218  103.0\n",
       "117332  01-01-00  LACKAWANNA    37650  21220    8.0"
      ]
     },
     "execution_count": 47,
     "metadata": {},
     "output_type": "execute_result"
    }
   ],
   "source": [
    "subwaydf.iloc[117329:117333]"
   ]
  },
  {
   "cell_type": "code",
   "execution_count": 16,
   "metadata": {},
   "outputs": [
    {
     "data": {
      "text/plain": [
       "Index(['index', 'C/A', 'UNIT', 'SCP', 'STATION', 'LINENAME', 'DIVISION',\n",
       "       'DATE', 'TIME', 'DESC', 'ENTRIES', 'EXITS', 'datetime', 'entries_pre',\n",
       "       'entries_next', 'entries_fixed', 'fixed_pre', 'shift_scp', 'hr4'],\n",
       "      dtype='object')"
      ]
     },
     "execution_count": 16,
     "metadata": {},
     "output_type": "execute_result"
    }
   ],
   "source": [
    "subwaydf.columns"
   ]
  },
  {
   "cell_type": "code",
   "execution_count": 17,
   "metadata": {},
   "outputs": [],
   "source": [
    "cleansubway = subwaydf[['C/A', 'UNIT', 'SCP', 'STATION', 'LINENAME', 'DIVISION','datetime','hr4']]"
   ]
  },
  {
   "cell_type": "code",
   "execution_count": 18,
   "metadata": {},
   "outputs": [],
   "source": [
    "cols = ['C/A', 'UNIT', 'SCP', 'STATION', 'LINENAME', 'DIVISION','datetime','hr4']"
   ]
  },
  {
   "cell_type": "code",
   "execution_count": 19,
   "metadata": {},
   "outputs": [],
   "source": [
    "cols = [i.lower() for i in cols]"
   ]
  },
  {
   "cell_type": "code",
   "execution_count": 20,
   "metadata": {},
   "outputs": [],
   "source": [
    "cleansubway.columns = cols"
   ]
  },
  {
   "cell_type": "code",
   "execution_count": 21,
   "metadata": {},
   "outputs": [],
   "source": [
    "cleansubway.to_csv('spring_2017.csv')"
   ]
  },
  {
   "cell_type": "code",
   "execution_count": null,
   "metadata": {},
   "outputs": [],
   "source": [
    "#subwaydf[subwaydf['STATION'] == 'BROADWAY JCT']"
   ]
  },
  {
   "cell_type": "code",
   "execution_count": null,
   "metadata": {},
   "outputs": [],
   "source": []
  }
 ],
 "metadata": {
  "kernelspec": {
   "display_name": "Python 3",
   "language": "python",
   "name": "python3"
  },
  "language_info": {
   "codemirror_mode": {
    "name": "ipython",
    "version": 3
   },
   "file_extension": ".py",
   "mimetype": "text/x-python",
   "name": "python",
   "nbconvert_exporter": "python",
   "pygments_lexer": "ipython3",
   "version": "3.6.4"
  }
 },
 "nbformat": 4,
 "nbformat_minor": 2
}
