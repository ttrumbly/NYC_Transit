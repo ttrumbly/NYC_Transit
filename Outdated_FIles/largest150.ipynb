{
 "cells": [
  {
   "cell_type": "code",
   "execution_count": 29,
   "metadata": {},
   "outputs": [
    {
     "name": "stdout",
     "output_type": "stream",
     "text": [
      "              station      linename    weekday       hr4\n",
      "2170  GRD CNTRL-42 ST         4567S     Friday  746650.0\n",
      "623   34 ST-HERALD SQ      BDFMNQRW     Friday  644051.0\n",
      "707   42 ST-PORT AUTH  ACENQRS1237W     Friday  449362.0\n",
      "651    34 ST-PENN STA           ACE     Friday  383874.0\n",
      "196    14 ST-UNION SQ      LNQR456W     Friday  368911.0\n",
      "3108   TIMES SQ-42 ST  1237ACENQRSW     Friday  334692.0\n",
      "2100        FULTON ST      2345ACJZ     Friday  313994.0\n",
      "735    47-50 STS ROCK          BDFM     Friday  289137.0\n",
      "868    59 ST COLUMBUS         ABCD1     Friday  283182.0\n",
      "2009    FLUSHING-MAIN             7     Friday  275330.0\n",
      "2800     PATH NEW WTC             1     Friday  261313.0\n",
      "644    34 ST-PENN STA        123ACE     Friday  257758.0\n",
      "2359  JKSN HT-ROOSVLT         EFMR7     Friday  250781.0\n",
      "1638         CANAL ST       JNQRZ6W     Friday  248054.0\n",
      "3192   W 4 ST-WASH SQ       ABCDEFM     Friday  216269.0\n",
      "1085            86 ST           456     Friday  213383.0\n",
      "2464  LEXINGTON AV/53           EM6     Friday  212840.0\n",
      "840             59 ST       456NQRW     Friday  207089.0\n",
      "693   42 ST-BRYANT PK         BDFM7     Friday  206189.0\n",
      "2331  JAY ST-METROTEC           ACF     Friday  190557.0\n",
      "959             72 ST           123     Friday  190525.0\n",
      "2317   JAMAICA CENTER           EJZ     Friday  181643.0\n",
      "833        57 ST-7 AV          NQRW     Friday  177952.0\n",
      "1141            96 ST           123     Friday  176644.0\n",
      "189    14 ST-UNION SQ      456LNQRW     Friday  165406.0\n",
      "1491     BOROUGH HALL         2345R     Friday  162021.0\n",
      "2171  GRD CNTRL-42 ST         4567S     Monday  744244.0\n",
      "624   34 ST-HERALD SQ      BDFMNQRW     Monday  591497.0\n",
      "708   42 ST-PORT AUTH  ACENQRS1237W     Monday  450633.0\n",
      "652    34 ST-PENN STA           ACE     Monday  408560.0\n",
      "...               ...           ...        ...       ...\n",
      "838        57 ST-7 AV          NQRW    Tuesday  182960.0\n",
      "1146            96 ST           123    Tuesday  181859.0\n",
      "1496     BOROUGH HALL         2345R    Tuesday  179718.0\n",
      "642    34 ST-PENN STA           123    Tuesday  172071.0\n",
      "1699      CHAMBERS ST         ACE23    Tuesday  164848.0\n",
      "1524    BOWLING GREEN            45    Tuesday  158524.0\n",
      "2176  GRD CNTRL-42 ST         4567S  Wednesday  700758.0\n",
      "629   34 ST-HERALD SQ      BDFMNQRW  Wednesday  554900.0\n",
      "713   42 ST-PORT AUTH  ACENQRS1237W  Wednesday  389804.0\n",
      "657    34 ST-PENN STA           ACE  Wednesday  356196.0\n",
      "202    14 ST-UNION SQ      LNQR456W  Wednesday  323680.0\n",
      "3114   TIMES SQ-42 ST  1237ACENQRSW  Wednesday  303398.0\n",
      "2106        FULTON ST      2345ACJZ  Wednesday  287715.0\n",
      "741    47-50 STS ROCK          BDFM  Wednesday  282492.0\n",
      "874    59 ST COLUMBUS         ABCD1  Wednesday  266885.0\n",
      "2015    FLUSHING-MAIN             7  Wednesday  244886.0\n",
      "2806     PATH NEW WTC             1  Wednesday  238946.0\n",
      "650    34 ST-PENN STA        123ACE  Wednesday  227610.0\n",
      "2365  JKSN HT-ROOSVLT         EFMR7  Wednesday  215586.0\n",
      "1644         CANAL ST       JNQRZ6W  Wednesday  203097.0\n",
      "2470  LEXINGTON AV/53           EM6  Wednesday  197162.0\n",
      "1091            86 ST           456  Wednesday  193638.0\n",
      "699   42 ST-BRYANT PK         BDFM7  Wednesday  193383.0\n",
      "846             59 ST       456NQRW  Wednesday  189196.0\n",
      "3198   W 4 ST-WASH SQ       ABCDEFM  Wednesday  185238.0\n",
      "2337  JAY ST-METROTEC           ACF  Wednesday  178388.0\n",
      "965             72 ST           123  Wednesday  172542.0\n",
      "2323   JAMAICA CENTER           EJZ  Wednesday  169216.0\n",
      "839        57 ST-7 AV          NQRW  Wednesday  166971.0\n",
      "1147            96 ST           123  Wednesday  161980.0\n",
      "\n",
      "[150 rows x 4 columns]\n"
     ]
    }
   ],
   "source": [
    "import pandas as pd\n",
    "import numpy as np\n",
    "filename = \"montly_clean.csv\"\n",
    "data = pd.read_csv(filename)\n",
    "\n",
    "data['date'] = [pd.to_datetime(d).date() for d in data.datetime]\n",
    "data['weekday'] = [pd.to_datetime(d).weekday_name for d in data.datetime]\n",
    "\n",
    "summed_up = data.groupby(['station', 'linename', 'weekday'], as_index=False)['hr4'].agg(np.sum)\n",
    "\n",
    "largest_station_time = summed_up.nlargest(150, 'hr4')\n",
    "\n",
    "largest_station_time.sort_values(by=['weekday', 'hr4'], ascending=[True, False], inplace = True)\n",
    "print(largest_station_time)"
   ]
  },
  {
   "cell_type": "code",
   "execution_count": 30,
   "metadata": {},
   "outputs": [],
   "source": [
    "largest_station_time.to_csv('busiest_station_weekday.csv')"
   ]
  },
  {
   "cell_type": "code",
   "execution_count": null,
   "metadata": {},
   "outputs": [],
   "source": []
  }
 ],
 "metadata": {
  "kernelspec": {
   "display_name": "Python 3",
   "language": "python",
   "name": "python3"
  },
  "language_info": {
   "codemirror_mode": {
    "name": "ipython",
    "version": 3
   },
   "file_extension": ".py",
   "mimetype": "text/x-python",
   "name": "python",
   "nbconvert_exporter": "python",
   "pygments_lexer": "ipython3",
   "version": "3.6.4"
  }
 },
 "nbformat": 4,
 "nbformat_minor": 2
}
